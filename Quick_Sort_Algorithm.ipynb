{
  "nbformat": 4,
  "nbformat_minor": 0,
  "metadata": {
    "colab": {
      "provenance": [],
      "authorship_tag": "ABX9TyO0VQdGKmDIgLOVSjajxFMO"
    },
    "kernelspec": {
      "name": "python3",
      "display_name": "Python 3"
    },
    "language_info": {
      "name": "python"
    }
  },
  "cells": [
    {
      "cell_type": "markdown",
      "source": [
        "pi - 1: This ensures that the left subarray (elements smaller than or equal to the pivot) is sorted.\n",
        "\n",
        "pi + 1: This ensures that the right subarray (elements greater than the pivot) is sorted."
      ],
      "metadata": {
        "id": "GO0HhC-JVnlg"
      }
    },
    {
      "cell_type": "code",
      "execution_count": null,
      "metadata": {
        "id": "Mi7ekA-ReV2W"
      },
      "outputs": [],
      "source": [
        "def partition(arr, low, high):\n",
        "  pivot = arr[high]\n",
        "  previous_index = low -1\n",
        "\n",
        "  for current_index in range(low, high):\n",
        "\n",
        "    if arr[current_index] <= pivot:\n",
        "\n",
        "      previous_index += 1\n",
        "\n",
        "      arr[previous_index], arr[current_index] =arr[current_index], arr[previous_index]\n",
        "\n",
        "  arr[previous_index +1], arr[high] = arr[high], arr[previous_index + 1]\n",
        "\n",
        "  return previous_index + 1\n",
        "\n"
      ]
    },
    {
      "cell_type": "markdown",
      "source": [
        "pi - is the partition index returned by the partition function.\n",
        "\n",
        "Left partition of pivot: (arr, low, pi - 1)\n",
        "\n",
        "Right partition of pivot: (arr, pi + 1, high)"
      ],
      "metadata": {
        "id": "uTDtOxfMVjAB"
      }
    },
    {
      "cell_type": "code",
      "source": [
        "def quick_sort_recursive(arr, low, high):\n",
        "    if low < high:\n",
        "        pi = partition(arr, low, high)\n",
        "        quick_sort_recursive(arr, low, pi - 1)\n",
        "        quick_sort_recursive(arr, pi + 1, high)\n",
        "\n",
        "\n",
        "\n"
      ],
      "metadata": {
        "id": "jav-CeyKeh61"
      },
      "execution_count": null,
      "outputs": []
    },
    {
      "cell_type": "markdown",
      "source": [
        "low = 0\n",
        "\n",
        "high = len(arr) - 1\n"
      ],
      "metadata": {
        "id": "9ritjpsCVmkQ"
      }
    },
    {
      "cell_type": "code",
      "source": [
        "def quick_sort(arr):\n",
        "\n",
        "  if len(arr) <= 1:\n",
        "    return arr\n",
        "\n",
        "  quick_sort_recursive(arr, 0, len(arr) - 1)\n"
      ],
      "metadata": {
        "id": "UreEpf-Neg-d"
      },
      "execution_count": null,
      "outputs": []
    },
    {
      "cell_type": "code",
      "source": [
        "def display(arr):\n",
        "\n",
        "  print(\"list:\", arr)\n",
        "\n",
        "  quick_sort(arr)\n",
        "\n",
        "  print(\"Sorted array:\", arr)\n"
      ],
      "metadata": {
        "id": "iz3zkdmMeg0V"
      },
      "execution_count": null,
      "outputs": []
    },
    {
      "cell_type": "code",
      "source": [
        "def take_input():\n",
        "\n",
        "  arr = list(map(int, input(\"Enter the array\").split()))\n",
        "\n",
        "  return arr"
      ],
      "metadata": {
        "id": "K-SO_-eFegrd"
      },
      "execution_count": null,
      "outputs": []
    },
    {
      "cell_type": "code",
      "source": [
        "arr = take_input()\n",
        "display(arr)"
      ],
      "metadata": {
        "colab": {
          "base_uri": "https://localhost:8080/"
        },
        "id": "asInn_8qei2M",
        "outputId": "847dc3be-073c-44c6-9fc9-7c8e7fb1d2e7"
      },
      "execution_count": null,
      "outputs": [
        {
          "output_type": "stream",
          "name": "stdout",
          "text": [
            "Enter the array7 4 1 9 6 3\n",
            "list: [7, 4, 1, 9, 6, 3]\n",
            "Sorted array: [1, 3, 4, 6, 7, 9]\n"
          ]
        }
      ]
    },
    {
      "cell_type": "code",
      "source": [
        "\n"
      ],
      "metadata": {
        "id": "aH55XI3Q-brF"
      },
      "execution_count": null,
      "outputs": []
    }
  ]
}