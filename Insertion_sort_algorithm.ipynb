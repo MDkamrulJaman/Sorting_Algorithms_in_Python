{
  "nbformat": 4,
  "nbformat_minor": 0,
  "metadata": {
    "colab": {
      "provenance": [],
      "authorship_tag": "ABX9TyMfCCwaGONEN0zuhzLRdWSv"
    },
    "kernelspec": {
      "name": "python3",
      "display_name": "Python 3"
    },
    "language_info": {
      "name": "python"
    }
  },
  "cells": [
    {
      "cell_type": "code",
      "source": [
        "\n",
        "def insertion_sort(arr):\n",
        "\n",
        "    n= len(arr)\n",
        "\n",
        "    pass_count = 0\n",
        "\n",
        "    for i in range(1, n):\n",
        "        print(\"\\n\")\n",
        "        print(\"i:\", i)\n",
        "        key = arr[i]\n",
        "        print(\"key:\", key)\n",
        "        j = i - 1\n",
        "        print(f\"J: {j} -> {arr[j]}\")\n",
        "\n",
        "        pass_count += 1\n",
        "        print(f\"\\nPass {pass_count}\")\n",
        "\n",
        "\n",
        "        while j >= 0 and arr[j] > key:\n",
        "            print(f\"j:{j}\")\n",
        "\n",
        "            arr[j + 1] = arr[j]\n",
        "            print(f\" arr[j + 1]:{arr[j + 1]}\")\n",
        "\n",
        "            j = j - 1\n",
        "            print(\"J:\", j)\n",
        "\n",
        "        arr[j + 1] = key\n",
        "        print(\"key:\", key)\n",
        "        print(\"arr:\", arr)\n",
        "\n",
        "\n",
        "\n",
        "\n",
        "    return arr\n"
      ],
      "metadata": {
        "id": "r_j_fkcEt74T"
      },
      "execution_count": 30,
      "outputs": []
    },
    {
      "cell_type": "code",
      "source": [
        "def input_array():\n",
        "\n",
        "  arr = list(map(int, input(\"Enter the elements:\").split()))\n",
        "  return arr\n"
      ],
      "metadata": {
        "id": "l8kUjI7Klzsw"
      },
      "execution_count": 2,
      "outputs": []
    },
    {
      "cell_type": "code",
      "source": [
        "def display_array(arr):\n",
        "\n",
        "  print(\"list:\", arr)\n",
        "  sorted_arr = insertion_sort(arr)\n",
        "  print(\"sorted list:\", sorted_arr)\n"
      ],
      "metadata": {
        "id": "omXbWsH1lzRf"
      },
      "execution_count": 3,
      "outputs": []
    },
    {
      "cell_type": "code",
      "source": [
        "  array =  input_array()\n",
        "  display_array(array)"
      ],
      "metadata": {
        "colab": {
          "base_uri": "https://localhost:8080/"
        },
        "id": "2bNgMo3NlzEI",
        "outputId": "9b99d99c-9a4e-4c05-ee03-0e6d900d4b7a"
      },
      "execution_count": 31,
      "outputs": [
        {
          "output_type": "stream",
          "name": "stdout",
          "text": [
            "Enter the elements:9 6 3 1\n",
            "list: [9, 6, 3, 1]\n",
            "\n",
            "\n",
            "i: 1\n",
            "key: 6\n",
            "J: 0 -> 9\n",
            "\n",
            "Pass 1\n",
            "j:0\n",
            " arr[j + 1]:9\n",
            "J: -1\n",
            "key: 6\n",
            "arr: [6, 9, 3, 1]\n",
            "\n",
            "\n",
            "i: 2\n",
            "key: 3\n",
            "J: 1 -> 9\n",
            "\n",
            "Pass 2\n",
            "j:1\n",
            " arr[j + 1]:9\n",
            "J: 0\n",
            "j:0\n",
            " arr[j + 1]:6\n",
            "J: -1\n",
            "key: 3\n",
            "arr: [3, 6, 9, 1]\n",
            "\n",
            "\n",
            "i: 3\n",
            "key: 1\n",
            "J: 2 -> 9\n",
            "\n",
            "Pass 3\n",
            "j:2\n",
            " arr[j + 1]:9\n",
            "J: 1\n",
            "j:1\n",
            " arr[j + 1]:6\n",
            "J: 0\n",
            "j:0\n",
            " arr[j + 1]:3\n",
            "J: -1\n",
            "key: 1\n",
            "arr: [1, 3, 6, 9]\n",
            "sorted list: [1, 3, 6, 9]\n"
          ]
        }
      ]
    },
    {
      "cell_type": "code",
      "source": [],
      "metadata": {
        "id": "Ww21i2j3-JtR"
      },
      "execution_count": null,
      "outputs": []
    }
  ]
}