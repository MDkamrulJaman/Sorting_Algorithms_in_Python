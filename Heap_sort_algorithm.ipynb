{
  "nbformat": 4,
  "nbformat_minor": 0,
  "metadata": {
    "colab": {
      "provenance": [],
      "authorship_tag": "ABX9TyNvJFNQpgkr9iBSrqazyXxf"
    },
    "kernelspec": {
      "name": "python3",
      "display_name": "Python 3"
    },
    "language_info": {
      "name": "python"
    }
  },
  "cells": [
    {
      "cell_type": "markdown",
      "source": [
        "Heap Sort\n",
        "\n",
        "**Heapify Up:** Used after inserting an element. Moves the element upwards to restore the heap property.\n",
        "\n",
        "**Heapify Down:** Used after removing or replacing the root element. Moves the element downwards to restore the heap property."
      ],
      "metadata": {
        "id": "ykp26OS0sVET"
      }
    },
    {
      "cell_type": "code",
      "execution_count": 11,
      "metadata": {
        "id": "g4FZhP27U0qk"
      },
      "outputs": [],
      "source": [
        "def heapify(arr, n, i):\n",
        "\n",
        "    largest = i  # root\n",
        "    left = 2 * i + 1  # Left child\n",
        "    right = 2 * i + 2  # Right child\n",
        "\n",
        "    # Check if left child exists and > root\n",
        "    if left < n and arr[left] > arr[largest]:\n",
        "        largest = left\n",
        "\n",
        "    #  right child exists and > > root\n",
        "    if right < n and arr[right] > arr[largest]:\n",
        "        largest = right\n",
        "\n",
        "    # largest is not root,\n",
        "    if largest != i:\n",
        "        arr[i], arr[largest] = arr[largest], arr[i]\n",
        "        heapify(arr, n, largest)  # Recursively heapify the subtree"
      ]
    },
    {
      "cell_type": "code",
      "source": [
        "\n",
        "def heap_sort(arr):\n",
        "    n = len(arr)\n",
        "\n",
        "    # Build a max heap and (n // 2 - 1) is last non-leaf node\n",
        "    for i in range(n // 2 - 1, -1, -1):\n",
        "        heapify(arr, n, i)\n",
        "\n",
        "    # Extract elements from heap one by one\n",
        "    for i in range(n - 1, 0, -1):\n",
        "        arr[i], arr[0] = arr[0], arr[i]  # Swap max element to the end\n",
        "        heapify(arr, i, 0)  # Restore heap property\n",
        "\n",
        "\n",
        "\n"
      ],
      "metadata": {
        "id": "4nLf-bygg25B"
      },
      "execution_count": 12,
      "outputs": []
    },
    {
      "cell_type": "markdown",
      "source": [],
      "metadata": {
        "id": "uFS1ESfDsTT8"
      }
    },
    {
      "cell_type": "code",
      "source": [
        "def take_input():\n",
        "\n",
        "  arr = [12, 11, 13, 5, 6, 7]\n",
        "\n",
        "  return arr"
      ],
      "metadata": {
        "id": "FL2DbHwqg2sx"
      },
      "execution_count": 13,
      "outputs": []
    },
    {
      "cell_type": "code",
      "source": [
        "\n",
        "def display(arr):\n",
        "\n",
        "   print(\"list:\", arr)\n",
        "   heap_sort(arr)\n",
        "   print(\"Sorted list:\", arr)\n",
        "\n",
        "\n",
        "\n",
        "\n"
      ],
      "metadata": {
        "id": "jSY6KZshg2gS"
      },
      "execution_count": 15,
      "outputs": []
    },
    {
      "cell_type": "code",
      "source": [
        "test = take_input()\n",
        "\n",
        "display(test)"
      ],
      "metadata": {
        "colab": {
          "base_uri": "https://localhost:8080/"
        },
        "id": "BnSUorUhosbH",
        "outputId": "cc15f104-08a3-4812-9bdd-faa4a3f0b37c"
      },
      "execution_count": 16,
      "outputs": [
        {
          "output_type": "stream",
          "name": "stdout",
          "text": [
            "list: [12, 11, 13, 5, 6, 7]\n",
            "Sorted list: [5, 6, 7, 11, 12, 13]\n"
          ]
        }
      ]
    }
  ]
}