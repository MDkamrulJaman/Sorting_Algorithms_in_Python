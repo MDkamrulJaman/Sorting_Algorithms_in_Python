{
  "nbformat": 4,
  "nbformat_minor": 0,
  "metadata": {
    "colab": {
      "provenance": [],
      "authorship_tag": "ABX9TyNZhsCZcBwf6tSQnENBkW3u"
    },
    "kernelspec": {
      "name": "python3",
      "display_name": "Python 3"
    },
    "language_info": {
      "name": "python"
    }
  },
  "cells": [
    {
      "cell_type": "markdown",
      "source": [
        "### Selection Sort Algorithm"
      ],
      "metadata": {
        "id": "Dca5uIm6xdEP"
      }
    },
    {
      "cell_type": "code",
      "execution_count": 53,
      "metadata": {
        "id": "-tWfiPWNxE6D"
      },
      "outputs": [],
      "source": [
        "def selection_sort(arr):\n",
        "    n = len(arr)\n",
        "    pass_count = 0\n",
        "\n",
        "   # outer loop to traverse each position\n",
        "    for i in range(n - 1): # (n - 1) because after n - 1 passes, the array is already sorted.\n",
        "        min_index = i\n",
        "        print(f\"Pass {pass_count + 1}:\")\n",
        "\n",
        "     # inner loop to find the smallest element\n",
        "        for j in range(i + 1, n):\n",
        "\n",
        "            if arr[j] < arr[min_index]:\n",
        "\n",
        "                print(f\"  Comparing  ({arr[j]}) <-> ({arr[min_index]})\")\n",
        "                min_index = j\n",
        "                print(f\"  Updating min_index to {min_index}\")\n",
        "\n",
        "        if min_index != i:  # swapping happens only when a new minimum is found.\n",
        "\n",
        "            arr[i], arr[min_index] = arr[min_index], arr[i] # swap to place the smallest element\n",
        "\n",
        "            print(f\"  swaping ({arr[i]}) <-> ({arr[min_index]})\")\n",
        "\n",
        "        pass_count += 1\n",
        "        print(f\" pass end {pass_count}: {arr}\\n\")\n",
        "    return arr"
      ]
    },
    {
      "cell_type": "code",
      "source": [
        "# input function from the user\n",
        "\n",
        "def input_array():\n",
        "    arr = list(map(int, input(\"Enter the elements:\").split()))\n",
        "    return arr\n",
        "\n"
      ],
      "metadata": {
        "id": "XlzT7N_wi7L3"
      },
      "execution_count": 54,
      "outputs": []
    },
    {
      "cell_type": "code",
      "source": [
        "# output function\n",
        "\n",
        "def display_array(arr):\n",
        "\n",
        "    print(\"list:\", arr)\n",
        "\n",
        "    sorted_arr = selection_sort(arr)\n",
        "    print(\"Sorted list:\", sorted_arr)"
      ],
      "metadata": {
        "id": "W8CYksI4i-44"
      },
      "execution_count": 55,
      "outputs": []
    },
    {
      "cell_type": "code",
      "source": [
        "\n",
        "if __name__ == \"__main__\":\n",
        "\n",
        "    array = input_array()\n",
        "    display_array(array)\n"
      ],
      "metadata": {
        "colab": {
          "base_uri": "https://localhost:8080/"
        },
        "id": "ca_ppCLt3io2",
        "outputId": "5830ca14-7004-429d-8d19-cc797a97fa71"
      },
      "execution_count": 57,
      "outputs": [
        {
          "output_type": "stream",
          "name": "stdout",
          "text": [
            "Enter the elements:7 4 1 9 6 3\n",
            "list: [7, 4, 1, 9, 6, 3]\n",
            "Pass 1:\n",
            "  Comparing  (4) <-> (7)\n",
            "  Updating min_index to 1\n",
            "  Comparing  (1) <-> (4)\n",
            "  Updating min_index to 2\n",
            "  swaping (1) <-> (7)\n",
            " pass end 1: [1, 4, 7, 9, 6, 3]\n",
            "\n",
            "Pass 2:\n",
            "  Comparing  (3) <-> (4)\n",
            "  Updating min_index to 5\n",
            "  swaping (3) <-> (4)\n",
            " pass end 2: [1, 3, 7, 9, 6, 4]\n",
            "\n",
            "Pass 3:\n",
            "  Comparing  (6) <-> (7)\n",
            "  Updating min_index to 4\n",
            "  Comparing  (4) <-> (6)\n",
            "  Updating min_index to 5\n",
            "  swaping (4) <-> (7)\n",
            " pass end 3: [1, 3, 4, 9, 6, 7]\n",
            "\n",
            "Pass 4:\n",
            "  Comparing  (6) <-> (9)\n",
            "  Updating min_index to 4\n",
            "  swaping (6) <-> (9)\n",
            " pass end 4: [1, 3, 4, 6, 9, 7]\n",
            "\n",
            "Pass 5:\n",
            "  Comparing  (7) <-> (9)\n",
            "  Updating min_index to 5\n",
            "  swaping (7) <-> (9)\n",
            " pass end 5: [1, 3, 4, 6, 7, 9]\n",
            "\n",
            "Sorted list: [1, 3, 4, 6, 7, 9]\n"
          ]
        }
      ]
    }
  ]
}