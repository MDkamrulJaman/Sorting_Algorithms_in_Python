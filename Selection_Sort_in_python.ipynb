{
  "cells": [
    {
      "cell_type": "markdown",
      "metadata": {
        "id": "Dca5uIm6xdEP"
      },
      "source": [
        "### Selection Sort Algorithm"
      ]
    },
    {
      "cell_type": "code",
      "execution_count": 14,
      "metadata": {
        "id": "61thSWkO3z2H"
      },
      "outputs": [],
      "source": [
        "# input function from the user\n",
        "\n",
        "def input_array():\n",
        "    arr = list(map(int, input(\"Enter the elements:\").split()))\n",
        "    return arr\n",
        "\n"
      ]
    },
    {
      "cell_type": "code",
      "execution_count": 15,
      "metadata": {
        "id": "D_ufjRx13DZC"
      },
      "outputs": [],
      "source": [
        "# output function\n",
        "\n",
        "def display_array(arr):\n",
        "\n",
        "    print(\"list:\", arr)\n",
        "\n",
        "  # calls the selection_sort function to sort the list arr\n",
        "    sorted_array =  selection_sort(arr)\n",
        "\n",
        "    print(\"Sorted list:\", sorted_array)\n"
      ]
    },
    {
      "cell_type": "code",
      "execution_count": 33,
      "metadata": {
        "id": "-tWfiPWNxE6D"
      },
      "outputs": [],
      "source": [
        "def selection_sort(arr):\n",
        "    n = len(arr)\n",
        "    pass_count = 0\n",
        "\n",
        "   # outer loop to traverse each position\n",
        "    for i in range(n - 1): # (n - 1) because after n - 1 passes, the array is already sorted.\n",
        "        min_index = i\n",
        "        print(f\"Pass {pass_count + 1}:\")\n",
        "\n",
        "     # inner loop to find the smallest element\n",
        "        for j in range(i + 1, n):\n",
        "\n",
        "            if arr[j] < arr[min_index]:\n",
        "\n",
        "                print(f\"  Comparing  ({arr[j]}) <-> ({arr[min_index]})\")\n",
        "                min_index = j\n",
        "                print(f\"  Updating min_index to {min_index}\")\n",
        "\n",
        "        if min_index != i:  # swapping happens only when a new minimum is found.\n",
        "\n",
        "            arr[i], arr[min_index] = arr[min_index], arr[i] # swap to place the smallest element\n",
        "            print(f\" ({arr[i]}) <-> ({arr[min_index]})\")\n",
        "\n",
        "        pass_count += 1\n",
        "        print(f\" pass end {pass_count}: {arr}\\n\")\n"
      ]
    },
    {
      "cell_type": "code",
      "execution_count": 31,
      "metadata": {
        "colab": {
          "base_uri": "https://localhost:8080/"
        },
        "id": "ca_ppCLt3io2",
        "outputId": "8050c988-1649-419b-b9ff-e23a5a03654c"
      },
      "outputs": [
        {
          "name": "stdout",
          "output_type": "stream",
          "text": [
            "Enter the elements:7 4 1 9 6 3\n",
            "list: [7, 4, 1, 9, 6, 3]\n",
            "Pass 1:\n",
            "  Comparing arr[1] (4) with arr[0] (7)\n",
            "  Updating min_index to 1\n",
            "  Comparing arr[2] (1) with arr[1] (4)\n",
            "  Updating min_index to 2\n",
            "  Comparing arr[3] (9) with arr[2] (1)\n",
            "  Comparing arr[4] (6) with arr[2] (1)\n",
            "  Comparing arr[5] (3) with arr[2] (1)\n",
            "  Swapping arr[0] (1) with arr[2] (7)\n",
            "  Array after pass 1: [1, 4, 7, 9, 6, 3]\n",
            "\n",
            "Pass 2:\n",
            "  Comparing arr[2] (7) with arr[1] (4)\n",
            "  Comparing arr[3] (9) with arr[1] (4)\n",
            "  Comparing arr[4] (6) with arr[1] (4)\n",
            "  Comparing arr[5] (3) with arr[1] (4)\n",
            "  Updating min_index to 5\n",
            "  Swapping arr[1] (3) with arr[5] (4)\n",
            "  Array after pass 2: [1, 3, 7, 9, 6, 4]\n",
            "\n",
            "Pass 3:\n",
            "  Comparing arr[3] (9) with arr[2] (7)\n",
            "  Comparing arr[4] (6) with arr[2] (7)\n",
            "  Updating min_index to 4\n",
            "  Comparing arr[5] (4) with arr[4] (6)\n",
            "  Updating min_index to 5\n",
            "  Swapping arr[2] (4) with arr[5] (7)\n",
            "  Array after pass 3: [1, 3, 4, 9, 6, 7]\n",
            "\n",
            "Pass 4:\n",
            "  Comparing arr[4] (6) with arr[3] (9)\n",
            "  Updating min_index to 4\n",
            "  Comparing arr[5] (7) with arr[4] (6)\n",
            "  Swapping arr[3] (6) with arr[4] (9)\n",
            "  Array after pass 4: [1, 3, 4, 6, 9, 7]\n",
            "\n",
            "Pass 5:\n",
            "  Comparing arr[5] (7) with arr[4] (9)\n",
            "  Updating min_index to 5\n",
            "  Swapping arr[4] (7) with arr[5] (9)\n",
            "  Array after pass 5: [1, 3, 4, 6, 7, 9]\n",
            "\n",
            "Sorted list: None\n"
          ]
        }
      ],
      "source": [
        "\n",
        "if __name__ == \"__main__\":\n",
        "\n",
        "    array = input_array()\n",
        "    display_array(array)\n"
      ]
    }
  ],
  "metadata": {
    "colab": {
      "provenance": []
    },
    "kernelspec": {
      "display_name": "Python 3",
      "name": "python3"
    },
    "language_info": {
      "name": "python"
    }
  },
  "nbformat": 4,
  "nbformat_minor": 0
}
