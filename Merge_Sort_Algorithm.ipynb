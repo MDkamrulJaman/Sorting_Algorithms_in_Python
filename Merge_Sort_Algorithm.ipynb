{
  "nbformat": 4,
  "nbformat_minor": 0,
  "metadata": {
    "colab": {
      "provenance": [],
      "authorship_tag": "ABX9TyOzDcmPj8efoEpmp9g73eby"
    },
    "kernelspec": {
      "name": "python3",
      "display_name": "Python 3"
    },
    "language_info": {
      "name": "python"
    }
  },
  "cells": [
    {
      "cell_type": "code",
      "execution_count": 18,
      "metadata": {
        "id": "ESweERf5OsMI"
      },
      "outputs": [],
      "source": [
        "def merge_sort(arr):\n",
        "\n",
        "  if len(arr)<=1:\n",
        "    return arr\n",
        "\n",
        "  mid = len(arr)//2\n",
        "\n",
        "  left = merge_sort(arr[:mid])\n",
        "\n",
        "  right = merge_sort(arr[mid:])\n",
        "\n",
        "  return  merge(left, right)\n"
      ]
    },
    {
      "cell_type": "code",
      "source": [
        "def merge(left, right):\n",
        "\n",
        "    result = [0] * (len(left) + len(right))\n",
        "\n",
        "    i = j = k = 0\n",
        "\n",
        "    while i < len(left) and j < len(right):\n",
        "\n",
        "        if left[i] < right[j]:\n",
        "\n",
        "            result[k] = left[i]\n",
        "            i += 1\n",
        "\n",
        "        else:\n",
        "            result[k] = right[j]\n",
        "            j += 1\n",
        "\n",
        "        k += 1\n",
        "        print(\"left_temp:\",left)\n",
        "        print(\"right_temp:\",right)\n",
        "        print(\"result_temp:\", result)\n",
        "        print(\"\\n\")\n",
        "\n",
        "\n",
        "    while i < len(left) or j < len(right):\n",
        "\n",
        "        if i < len(left):\n",
        "            result[k] = left[i]\n",
        "            i += 1\n",
        "\n",
        "        else:\n",
        "            result[k] = right[j]\n",
        "            j += 1\n",
        "\n",
        "        k += 1\n",
        "        print(\"left_main:\",left)\n",
        "        print(\"right_main:\",right)\n",
        "        print(\"result_main:\", result)\n",
        "        print(\"\\n\")\n",
        "\n",
        "\n",
        "    return result\n"
      ],
      "metadata": {
        "id": "zHEIkq8VSJ1k"
      },
      "execution_count": 19,
      "outputs": []
    },
    {
      "cell_type": "code",
      "source": [
        "def take_input():\n",
        "\n",
        "  arr = list(map(int, input(\"enter the list elements:\").split()))\n",
        "\n",
        "  return arr"
      ],
      "metadata": {
        "id": "UIE5ec7cSJoN"
      },
      "execution_count": 5,
      "outputs": []
    },
    {
      "cell_type": "code",
      "source": [
        "def display(arr):\n",
        "\n",
        "  print(\"The list:\", arr)\n",
        "\n",
        "  sorted_arr = merge_sort(arr)\n",
        "  print(\"Sorted Array:\", sorted_arr)\n"
      ],
      "metadata": {
        "id": "IjXardVyTZsA"
      },
      "execution_count": 6,
      "outputs": []
    },
    {
      "cell_type": "code",
      "source": [
        "arr = take_input()\n",
        "\n",
        "display(arr)"
      ],
      "metadata": {
        "colab": {
          "base_uri": "https://localhost:8080/"
        },
        "id": "bvj8KkD_SJWA",
        "outputId": "e6bd05ac-b5c7-414a-ee23-1c7e2d60b91e"
      },
      "execution_count": 20,
      "outputs": [
        {
          "output_type": "stream",
          "name": "stdout",
          "text": [
            "enter the list elements:7 4 1 9 6 3 20 \n",
            "The list: [7, 4, 1, 9, 6, 3, 20]\n",
            "left_temp: [4]\n",
            "right_temp: [1]\n",
            "result_temp: [1, 0]\n",
            "\n",
            "\n",
            "left_main: [4]\n",
            "right_main: [1]\n",
            "result_main: [1, 4]\n",
            "\n",
            "\n",
            "left_temp: [7]\n",
            "right_temp: [1, 4]\n",
            "result_temp: [1, 0, 0]\n",
            "\n",
            "\n",
            "left_temp: [7]\n",
            "right_temp: [1, 4]\n",
            "result_temp: [1, 4, 0]\n",
            "\n",
            "\n",
            "left_main: [7]\n",
            "right_main: [1, 4]\n",
            "result_main: [1, 4, 7]\n",
            "\n",
            "\n",
            "left_temp: [9]\n",
            "right_temp: [6]\n",
            "result_temp: [6, 0]\n",
            "\n",
            "\n",
            "left_main: [9]\n",
            "right_main: [6]\n",
            "result_main: [6, 9]\n",
            "\n",
            "\n",
            "left_temp: [3]\n",
            "right_temp: [20]\n",
            "result_temp: [3, 0]\n",
            "\n",
            "\n",
            "left_main: [3]\n",
            "right_main: [20]\n",
            "result_main: [3, 20]\n",
            "\n",
            "\n",
            "left_temp: [6, 9]\n",
            "right_temp: [3, 20]\n",
            "result_temp: [3, 0, 0, 0]\n",
            "\n",
            "\n",
            "left_temp: [6, 9]\n",
            "right_temp: [3, 20]\n",
            "result_temp: [3, 6, 0, 0]\n",
            "\n",
            "\n",
            "left_temp: [6, 9]\n",
            "right_temp: [3, 20]\n",
            "result_temp: [3, 6, 9, 0]\n",
            "\n",
            "\n",
            "left_main: [6, 9]\n",
            "right_main: [3, 20]\n",
            "result_main: [3, 6, 9, 20]\n",
            "\n",
            "\n",
            "left_temp: [1, 4, 7]\n",
            "right_temp: [3, 6, 9, 20]\n",
            "result_temp: [1, 0, 0, 0, 0, 0, 0]\n",
            "\n",
            "\n",
            "left_temp: [1, 4, 7]\n",
            "right_temp: [3, 6, 9, 20]\n",
            "result_temp: [1, 3, 0, 0, 0, 0, 0]\n",
            "\n",
            "\n",
            "left_temp: [1, 4, 7]\n",
            "right_temp: [3, 6, 9, 20]\n",
            "result_temp: [1, 3, 4, 0, 0, 0, 0]\n",
            "\n",
            "\n",
            "left_temp: [1, 4, 7]\n",
            "right_temp: [3, 6, 9, 20]\n",
            "result_temp: [1, 3, 4, 6, 0, 0, 0]\n",
            "\n",
            "\n",
            "left_temp: [1, 4, 7]\n",
            "right_temp: [3, 6, 9, 20]\n",
            "result_temp: [1, 3, 4, 6, 7, 0, 0]\n",
            "\n",
            "\n",
            "left_main: [1, 4, 7]\n",
            "right_main: [3, 6, 9, 20]\n",
            "result_main: [1, 3, 4, 6, 7, 9, 0]\n",
            "\n",
            "\n",
            "left_main: [1, 4, 7]\n",
            "right_main: [3, 6, 9, 20]\n",
            "result_main: [1, 3, 4, 6, 7, 9, 20]\n",
            "\n",
            "\n",
            "Sorted Array: [1, 3, 4, 6, 7, 9, 20]\n"
          ]
        }
      ]
    },
    {
      "cell_type": "code",
      "source": [
        "# def merge(left, right):\n",
        "\n",
        "#     result = []\n",
        "\n",
        "#     i = j = k = 0\n",
        "\n",
        "#     while i < len(left) and j < len(right):\n",
        "\n",
        "#         if left[i] < right[j]:\n",
        "#             result.append(left[i])\n",
        "#             i += 1\n",
        "#\n",
        "#        else:\n",
        "#             result.append(right[j])\n",
        "#             j += 1\n",
        "\n",
        "#         k += 1\n",
        "\n",
        "#     # Extend the result list with the remaining elements\n",
        "#     result.extend(left[i:])\n",
        "#     result.extend(right[j:])\n",
        "\n",
        "#     return result"
      ],
      "metadata": {
        "id": "vs8iD9RpJFGY"
      },
      "execution_count": null,
      "outputs": []
    }
  ]
}